{
 "cells": [
  {
   "cell_type": "markdown",
   "metadata": {},
   "source": [
    "# Практическое задание к Уроку 1. Вводный"
   ]
  },
  {
   "cell_type": "markdown",
   "metadata": {},
   "source": [
    "### В проектируемой локальной сети есть заданное количество компьютеров. Есть расстояния от каждого компьютера до сервера и до остальных компьютеров. Маршрутизаторы соединяются с сервером через оптоволокно стоимостью 12 р/м, а компьютеры - с маршрутизаторами соединяются через витую пару стоимостью 30 р/м. Каждый маршрутизатор имеет 8 портов для витой пары и один оптический порт. Сервер имеет неограниченное число оптических портов и портов для витой пары. Компьютер может соединяться с сервером напрямую или через маршрутизатор. 1. Построить ЦФ для расчёта стоимости оборудования ЛВС в общем виде. Учесть стоимость маршрутизатора, обоснованность его установки. "
   ]
  },
  {
   "cell_type": "markdown",
   "metadata": {},
   "source": [
    "Первый случай компьютеры соединяются без маршрутизатора по витой паре\n",
    "$$f(X) = \\displaystyle\\sum_{i=1}^{k}{l_i}*ЦВ$$\n",
    "где ${l_i}$ расстояние от компьтера до сервера, ЦВ - цена витой пары, k- количество компьютеров \n",
    "или $$f(X) = 30*\\displaystyle\\sum_{i=1}^{k}{l_i}$$"
   ]
  },
  {
   "cell_type": "markdown",
   "metadata": {},
   "source": [
    "Второй случай компьютеры соединяются через маршрутизатор по витой паре\n",
    "$$f(X) = S*ЦО+ЦМ+\\displaystyle\\sum_{i=1}^{k}{L_i}*ЦВ$$\n",
    "где S- растояние от маршрутизатора до сервера, ${L_i}$ расстояние от компьтера до маршрутизатора, ЦО- цена оптической пары, ЦМ- цена маршрутизатора, ЦВ - цена витой пары, k- количество компьютеров \n",
    "\n",
    "для N количества маршрутизаторов\n",
    "$$f(X) = \\displaystyle\\sum_{j=1}^{N}{S_j}*ЦО+N*ЦМ+\\displaystyle\\sum_{i=1}^{k}{L_i}*ЦВ$$\n",
    "\n",
    "или $$f(X) = 12*\\displaystyle\\sum_{j=1}^{N}{S_j}+N*ЦМ+30*\\displaystyle\\sum_{i=1}^{k}{L_i}$$\n"
   ]
  },
  {
   "cell_type": "markdown",
   "metadata": {},
   "source": [
    "тогда целевая функция $$ЦФ=Minimum(30*\\displaystyle\\sum_{i=1}^{k}{l_i},12*\\displaystyle\\sum_{j=1}^{N}{S_j}+N*ЦМ+30*\\displaystyle\\sum_{i=1}^{k}{L_i})$$"
   ]
  },
  {
   "cell_type": "code",
   "execution_count": null,
   "metadata": {},
   "outputs": [],
   "source": []
  },
  {
   "cell_type": "markdown",
   "metadata": {},
   "source": [
    "### 2. Построить поверхность стоимости от сумм расстояний для конкретного примера. Количество компьютеров — больше двух, располагаются не на одной линии в одной четверти относительно сервера.*"
   ]
  },
  {
   "cell_type": "markdown",
   "metadata": {},
   "source": [
    " по условию, для упрощения пусть число маршрутизаторов N=1 \n",
    "    $$ЦФ=Minimum(30*\\displaystyle\\sum_{i=1}^{k}{l_i},12*\\displaystyle\\sum_{j=1}^{N}{S_j}+N*ЦМ+30*\\displaystyle\\sum_{i=1}^{k}{L_i})$$"
   ]
  },
  {
   "cell_type": "code",
   "execution_count": 153,
   "metadata": {},
   "outputs": [],
   "source": [
    "import numpy as np              \n",
    "import matplotlib.pyplot as plt \n",
    "import math"
   ]
  },
  {
   "cell_type": "code",
   "execution_count": 178,
   "metadata": {},
   "outputs": [],
   "source": [
    "k=5  # число компьютеров\n",
    "ЦМ=1000"
   ]
  },
  {
   "cell_type": "code",
   "execution_count": 179,
   "metadata": {},
   "outputs": [],
   "source": [
    "## без маршрутизатора\n",
    "def F_1(l):\n",
    "    return 30*np.sum(l)\n",
    "\n"
   ]
  },
  {
   "cell_type": "code",
   "execution_count": 180,
   "metadata": {},
   "outputs": [],
   "source": [
    "## c маршрутизатором\n",
    "def F_2(S,l):\n",
    "    return 12*S+ЦМ+30*np.sum(l)"
   ]
  },
  {
   "cell_type": "code",
   "execution_count": 191,
   "metadata": {},
   "outputs": [],
   "source": [
    "l_to_server=np.array(range (30,100))\n",
    "F=[]\n",
    "for i in l_to_server:\n",
    "        l_srv=np.random.randint(i,i+10,k) #растояние компьютеров до сервера\n",
    "        L=np.random.randint(1,10,k)\n",
    "        F.append(np.minimum(F_1(l_srv),F_2(l_srv.mean()-L.mean(),L)))"
   ]
  },
  {
   "cell_type": "code",
   "execution_count": 193,
   "metadata": {},
   "outputs": [
    {
     "data": {
      "image/png": "[encoded data removed]",
      "text/plain": [
       "<Figure size 432x288 with 1 Axes>"
      ]
     },
     "metadata": {
      "needs_background": "light"
     },
     "output_type": "display_data"
    }
   ],
   "source": [
    "fig, ax = plt.subplots()                                                                                                         \n",
    "ax.plot(l_to_server,F) \n",
    "ax.grid()     \n",
    "\n",
    "plt.show()                    "
   ]
  },
  {
   "cell_type": "code",
   "execution_count": null,
   "metadata": {},
   "outputs": [],
   "source": []
  },
  {
   "cell_type": "code",
   "execution_count": null,
   "metadata": {},
   "outputs": [],
   "source": []
  },
  {
   "cell_type": "code",
   "execution_count": null,
   "metadata": {},
   "outputs": [],
   "source": []
  }
 ],
 "metadata": {
  "kernelspec": {
   "display_name": "Python 3",
   "language": "python",
   "name": "python3"
  },
  "language_info": {
   "codemirror_mode": {
    "name": "ipython",
    "version": 3
   },
   "file_extension": ".py",
   "mimetype": "text/x-python",
   "name": "python",
   "nbconvert_exporter": "python",
   "pygments_lexer": "ipython3",
   "version": "3.7.4"
  }
 },
 "nbformat": 4,
 "nbformat_minor": 2
}
