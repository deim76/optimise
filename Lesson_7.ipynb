{
 "cells": [
  {
   "cell_type": "markdown",
   "metadata": {},
   "source": [
    "# Практическое задание к уроку 7"
   ]
  },
  {
   "cell_type": "code",
   "execution_count": 179,
   "metadata": {},
   "outputs": [],
   "source": [
    "from typing import Dict\n",
    "from copy import deepcopy\n",
    "from tqdm import tqdm\n",
    "\n",
    "import random\n",
    "import numpy as np\n",
    "import pandas as pd\n",
    "import xgboost as xgb\n",
    "\n",
    "from sklearn.metrics import roc_auc_score\n",
    "from sklearn.model_selection import train_test_split\n",
    "from IPython.display import clear_output\n",
    "\n",
    "import seaborn as sns\n",
    "import matplotlib.pyplot as plt"
   ]
  },
  {
   "cell_type": "markdown",
   "metadata": {},
   "source": [
    "### Выбрать один из алгоритмов представленных по ссылке и реализовать его."
   ]
  },
  {
   "cell_type": "code",
   "execution_count": 222,
   "metadata": {},
   "outputs": [],
   "source": [
    "### Равномерный кроссовер\n",
    "def crossover_equable(parents, children_size):\n",
    "    children = np.empty(children_size)\n",
    "    cross=np.random.randint(0,2,size=children_size[1])\n",
    "    for i in range(children_size[0]):\n",
    "            for j in cross:\n",
    "                parent1_idx = i % parents.shape[0]\n",
    "                parent2_idx = (i+1) % parents.shape[0]\n",
    "                if cross[j]==1:\n",
    "                    children[i,j]=parents[parent1_idx,j]\n",
    "                else:\n",
    "                    children[i,j]=parents[parent2_idx,j]\n",
    "    return children"
   ]
  },
  {
   "cell_type": "code",
   "execution_count": 334,
   "metadata": {},
   "outputs": [],
   "source": [
    "### Кроссовер Ордена Дэвиса (OX1)\n",
    "def crossover_OX1(parents, children_size):\n",
    "    point1=np.random.randint(0, children_size[1]/2)\n",
    "    \n",
    "    point2=np.random.randint(point1, children_size[1])\n",
    "    idx_1 = range(point1,point2)\n",
    "    idx_2 = range(point1)\n",
    "    idx_3 = range(point2,children_size[1])\n",
    "    children = np.empty(children_size)\n",
    "\n",
    "    for i in range(children_size[0]):\n",
    "                    parent1_idx = i % parents.shape[0]\n",
    "                    parent2_idx = (i+1) % parents.shape[0]\n",
    "\n",
    "                    children[i, idx_1] = parents[parent1_idx, idx_1]\n",
    "                    children[i, idx_2] = parents[parent2_idx, range(point1,point1+len(idx_2))]\n",
    "                    children[i, idx_3] = parents[parent2_idx, range(0,len(idx_3))]\n",
    "                 \n",
    "    return children"
   ]
  },
  {
   "cell_type": "markdown",
   "metadata": {},
   "source": [
    "### 2. *вы также можете попробовать подставить его в реализацию в методичке, часть 1"
   ]
  },
  {
   "cell_type": "code",
   "execution_count": 224,
   "metadata": {},
   "outputs": [
    {
     "data": {
      "text/html": [
       "<div>\n",
       "<style scoped>\n",
       "    .dataframe tbody tr th:only-of-type {\n",
       "        vertical-align: middle;\n",
       "    }\n",
       "\n",
       "    .dataframe tbody tr th {\n",
       "        vertical-align: top;\n",
       "    }\n",
       "\n",
       "    .dataframe thead th {\n",
       "        text-align: right;\n",
       "    }\n",
       "</style>\n",
       "<table border=\"1\" class=\"dataframe\">\n",
       "  <thead>\n",
       "    <tr style=\"text-align: right;\">\n",
       "      <th></th>\n",
       "      <th>SK_ID_CURR</th>\n",
       "      <th>TARGET</th>\n",
       "      <th>NAME_CONTRACT_TYPE</th>\n",
       "      <th>CODE_GENDER</th>\n",
       "      <th>FLAG_OWN_CAR</th>\n",
       "      <th>FLAG_OWN_REALTY</th>\n",
       "      <th>CNT_CHILDREN</th>\n",
       "      <th>AMT_INCOME_TOTAL</th>\n",
       "      <th>AMT_CREDIT</th>\n",
       "      <th>AMT_ANNUITY</th>\n",
       "      <th>...</th>\n",
       "      <th>FLAG_DOCUMENT_19</th>\n",
       "      <th>FLAG_DOCUMENT_20</th>\n",
       "      <th>FLAG_DOCUMENT_21</th>\n",
       "      <th>AMT_REQ_CREDIT_BUREAU_HOUR</th>\n",
       "      <th>AMT_REQ_CREDIT_BUREAU_DAY</th>\n",
       "      <th>AMT_REQ_CREDIT_BUREAU_WEEK</th>\n",
       "      <th>AMT_REQ_CREDIT_BUREAU_MON</th>\n",
       "      <th>AMT_REQ_CREDIT_BUREAU_QRT</th>\n",
       "      <th>AMT_REQ_CREDIT_BUREAU_YEAR</th>\n",
       "      <th>COMMUNICATION_TYPE</th>\n",
       "    </tr>\n",
       "  </thead>\n",
       "  <tbody>\n",
       "    <tr>\n",
       "      <td>0</td>\n",
       "      <td>432687</td>\n",
       "      <td>0</td>\n",
       "      <td>Cash loans</td>\n",
       "      <td>M</td>\n",
       "      <td>Y</td>\n",
       "      <td>Y</td>\n",
       "      <td>2</td>\n",
       "      <td>225000.0</td>\n",
       "      <td>450000.0</td>\n",
       "      <td>30204.0</td>\n",
       "      <td>...</td>\n",
       "      <td>0</td>\n",
       "      <td>0</td>\n",
       "      <td>0</td>\n",
       "      <td>0.0</td>\n",
       "      <td>0.0</td>\n",
       "      <td>0.0</td>\n",
       "      <td>4.0</td>\n",
       "      <td>1.0</td>\n",
       "      <td>5.0</td>\n",
       "      <td>PUSH</td>\n",
       "    </tr>\n",
       "    <tr>\n",
       "      <td>1</td>\n",
       "      <td>420893</td>\n",
       "      <td>0</td>\n",
       "      <td>Cash loans</td>\n",
       "      <td>M</td>\n",
       "      <td>Y</td>\n",
       "      <td>Y</td>\n",
       "      <td>0</td>\n",
       "      <td>225000.0</td>\n",
       "      <td>753925.5</td>\n",
       "      <td>59697.0</td>\n",
       "      <td>...</td>\n",
       "      <td>0</td>\n",
       "      <td>0</td>\n",
       "      <td>0</td>\n",
       "      <td>0.0</td>\n",
       "      <td>0.0</td>\n",
       "      <td>0.0</td>\n",
       "      <td>1.0</td>\n",
       "      <td>0.0</td>\n",
       "      <td>0.0</td>\n",
       "      <td>PUSH</td>\n",
       "    </tr>\n",
       "  </tbody>\n",
       "</table>\n",
       "<p>2 rows × 122 columns</p>\n",
       "</div>"
      ],
      "text/plain": [
       "   SK_ID_CURR  TARGET NAME_CONTRACT_TYPE CODE_GENDER FLAG_OWN_CAR  \\\n",
       "0      432687       0         Cash loans           M            Y   \n",
       "1      420893       0         Cash loans           M            Y   \n",
       "\n",
       "  FLAG_OWN_REALTY  CNT_CHILDREN  AMT_INCOME_TOTAL  AMT_CREDIT  AMT_ANNUITY  \\\n",
       "0               Y             2          225000.0    450000.0      30204.0   \n",
       "1               Y             0          225000.0    753925.5      59697.0   \n",
       "\n",
       "   ...  FLAG_DOCUMENT_19 FLAG_DOCUMENT_20 FLAG_DOCUMENT_21  \\\n",
       "0  ...                 0                0                0   \n",
       "1  ...                 0                0                0   \n",
       "\n",
       "  AMT_REQ_CREDIT_BUREAU_HOUR AMT_REQ_CREDIT_BUREAU_DAY  \\\n",
       "0                        0.0                       0.0   \n",
       "1                        0.0                       0.0   \n",
       "\n",
       "  AMT_REQ_CREDIT_BUREAU_WEEK  AMT_REQ_CREDIT_BUREAU_MON  \\\n",
       "0                        0.0                        4.0   \n",
       "1                        0.0                        1.0   \n",
       "\n",
       "   AMT_REQ_CREDIT_BUREAU_QRT  AMT_REQ_CREDIT_BUREAU_YEAR  COMMUNICATION_TYPE  \n",
       "0                        1.0                         5.0                PUSH  \n",
       "1                        0.0                         0.0                PUSH  \n",
       "\n",
       "[2 rows x 122 columns]"
      ]
     },
     "execution_count": 224,
     "metadata": {},
     "output_type": "execute_result"
    }
   ],
   "source": [
    "data = pd.read_csv(\"train.csv\")\n",
    "data = data.sample(50000).reset_index(drop=True)\n",
    "\n",
    "data.head(n=2)"
   ]
  },
  {
   "cell_type": "code",
   "execution_count": 225,
   "metadata": {},
   "outputs": [],
   "source": [
    "x_train, x_valid = train_test_split(\n",
    "    data, train_size=15000, random_state=1\n",
    ")\n",
    "x_train = x_train.reset_index(drop=True)\n",
    "x_valud = x_valid.reset_index(drop=True)\n",
    "\n",
    "y_train, y_valid = x_train[\"TARGET\"], x_valid[\"TARGET\"]"
   ]
  },
  {
   "cell_type": "code",
   "execution_count": 226,
   "metadata": {},
   "outputs": [],
   "source": [
    "def init_population(number_of_parents: int) -> Dict[str, np.array]:\n",
    "    \"\"\"\n",
    "    Инициализация начальной популяции генетического алгоритма.\n",
    "\n",
    "    Parameters\n",
    "    ----------\n",
    "    number_of_parents: int\n",
    "        Количество родителей в популяции.\n",
    "\n",
    "    Returns\n",
    "    -------\n",
    "    population: dict, Dict[str, np.array]\n",
    "        Словарь с начальной популяцией.\n",
    "\n",
    "    \"\"\"\n",
    "    population = {\n",
    "        \"max_depth\": np.empty([number_of_parents, 1], dtype=np.uint8),\n",
    "        \"min_child_weight\": np.empty([number_of_parents, 1], dtype=np.uint8),\n",
    "        \"subsample\": np.empty([number_of_parents, 1]),\n",
    "        \"colsample_bytree\": np.empty([number_of_parents, 1]),\n",
    "        \"gamma\": np.empty([number_of_parents, 1])\n",
    "    }\n",
    "\n",
    "    for i in range(number_of_parents):\n",
    "        population[\"max_depth\"][i] = round(\n",
    "            random.randrange(1, 10, step=1)\n",
    "        )\n",
    "        population[\"min_child_weight\"][i] = round(\n",
    "            random.uniform(0.01, 10), 2\n",
    "        )\n",
    "        population[\"subsample\"][i] = round(\n",
    "            random.uniform(0.01, 1), 2\n",
    "        )\n",
    "        population[\"colsample_bytree\"][i] = round(\n",
    "            random.uniform(0.01, 1), 2\n",
    "        )\n",
    "        population[\"gamma\"][i] = round(\n",
    "            random.uniform(0.01, 10), 2\n",
    "        )\n",
    "    return population"
   ]
  },
  {
   "cell_type": "code",
   "execution_count": 325,
   "metadata": {},
   "outputs": [],
   "source": [
    "def train_population(population,\n",
    "                     xgb_train: xgb.DMatrix,\n",
    "                     xgb_valid: xgb.DMatrix,\n",
    "                     y_valid: pd.Series\n",
    "                     ):\n",
    "    scores = []\n",
    "    for i in range(population.shape[0]):\n",
    "        xgb_params = {\n",
    "            \"booster\": \"gbtree\",\n",
    "            \"objective\": \"binary:logistic\",\n",
    "            \"learning_rate\": 0.1,\n",
    "            \"max_depth\": int(population[i][0]),\n",
    "            \"min_child_weight\": population[i][1],\n",
    "            \"subsample\": population[i][2],\n",
    "            \"colsample_bytree\": population[i][3],\n",
    "            \"gamma\": population[i][4],\n",
    "            \"eval_metric\": \"auc\",\n",
    "            \"nthread\": 6,\n",
    "            \"seed\": 27\n",
    "        }\n",
    "        \n",
    "        model = xgb.train(\n",
    "            params=xgb_params,\n",
    "            dtrain=xgb_train,\n",
    "            evals=[(xgb_train, \"train\"), (xgb_valid, \"valid\")],\n",
    "            early_stopping_rounds=50,\n",
    "            num_boost_round=1000,\n",
    "            verbose_eval=25,\n",
    "        )\n",
    "        y_pred = model.predict(xgb_valid)\n",
    "        score = roc_auc_score(y_valid, y_pred)\n",
    "        scores.append(score)\n",
    "        print(\"=\"*84)\n",
    "        \n",
    "\n",
    "    return scores"
   ]
  },
  {
   "cell_type": "code",
   "execution_count": 228,
   "metadata": {},
   "outputs": [],
   "source": [
    "def select_new_parents(population: np.array, scores: list, num_parents: int):\n",
    "    \"\"\"\n",
    "    Выбор оптимальный параметров популяции на основе\n",
    "    значений метрики качества ROC-AUC.\n",
    "\n",
    "    Parameters\n",
    "    ----------\n",
    "    population: np.array\n",
    "        Матрица с текущим значением популяции.\n",
    "\n",
    "    scores: List[float]\n",
    "        Список со значениями метрики качества.\n",
    "\n",
    "    num_parents: int\n",
    "        Количество родителей, которые требуется отобрать.\n",
    "\n",
    "    Returns\n",
    "    -------\n",
    "    selected_parents: np.array\n",
    "        Значение популяции, отобранное на основе метрики качества.\n",
    "\n",
    "    \"\"\"\n",
    "    scores = deepcopy(scores)\n",
    "    selected_parents = np.empty((\n",
    "        num_parents, population.shape[1]\n",
    "    ))\n",
    "\n",
    "    for parent_id in range(num_parents):\n",
    "        best_result_id = np.where(scores == np.max(scores))\n",
    "        best_result_id = best_result_id[0][0]\n",
    "\n",
    "        selected_parents[parent_id, :] = population[best_result_id, :]\n",
    "        scores[best_result_id] = -1\n",
    "\n",
    "    return selected_parents"
   ]
  },
  {
   "cell_type": "code",
   "execution_count": 229,
   "metadata": {},
   "outputs": [],
   "source": [
    "number_of_parents = 8\n",
    "number_of_parents_mating = 4\n",
    "number_of_parameters = 5\n",
    "number_of_generation = 6\n",
    "\n",
    "population_size = (number_of_parents, number_of_parameters)\n",
    "scores_history = np.empty([number_of_generation+1, number_of_parents])\n",
    "\n",
    "params_history = np.empty([(number_of_generation+1) * number_of_parents, number_of_parameters])"
   ]
  },
  {
   "cell_type": "code",
   "execution_count": 230,
   "metadata": {},
   "outputs": [],
   "source": [
    "population = init_population(number_of_parents)\n",
    "\n",
    "population = np.concatenate((\n",
    "    population[\"max_depth\"],\n",
    "    population[\"min_child_weight\"],\n",
    "    population[\"subsample\"],\n",
    "    population[\"colsample_bytree\"],\n",
    "    population[\"gamma\"]), axis=1)\n",
    "\n",
    "params_history[0:number_of_parents, :] = population"
   ]
  },
  {
   "cell_type": "code",
   "execution_count": 231,
   "metadata": {},
   "outputs": [],
   "source": [
    "def mutation(crossover, number_of_parameters):\n",
    "    \"\"\"\n",
    "    Мутация объектов популяции, получение новых значений\n",
    "    гиперпараметров для проверки гипотезы о повышении качества\n",
    "    работы модели.\n",
    "\n",
    "    Parameters\n",
    "    ----------\n",
    "    crossover: np.array\n",
    "        Исходные объекты популяции.\n",
    "\n",
    "    number_of_parameters: int\n",
    "        Количество параметров.\n",
    "\n",
    "    Returns\n",
    "    -------\n",
    "    crossover: np.array\n",
    "        Мутированные объекты популяции.\n",
    "\n",
    "    \"\"\"\n",
    "    min_max_values = np.zeros((number_of_parameters, 2))\n",
    "\n",
    "    min_max_values[0, :] = [1, 15] # ограничение для max_depth\n",
    "    min_max_values[1, :] = [0, 10] # ограничение для min_child_weight\n",
    "    min_max_values[2, :] = [0.01, 1] # ограничение для subsample\n",
    "    min_max_values[3, :] = [0.01, 1] # ограничение для colsample_bytree\n",
    "    min_max_values[4, :] = [0.01, 10] # ограничение для gamma\n",
    "    parameter_selected = np.random.randint(0, 5, 1)\n",
    "\n",
    "    if parameter_selected == 0:\n",
    "        mutation_value = np.random.randint(-5, 5, 1)\n",
    "    elif parameter_selected == 1:\n",
    "        mutation_value = round(np.random.uniform(5, 5), 2)\n",
    "    elif parameter_selected == 2:\n",
    "        mutation_value = round(np.random.uniform(-0.5, 0.5), 2)\n",
    "    elif parameter_selected == 3:\n",
    "        mutation_value = round(np.random.uniform(-0.5, 0.5), 2)\n",
    "    elif parameter_selected == 4:\n",
    "        mutation_value = round(np.random.uniform(-2, 2), 2)\n",
    "\n",
    "    for idx in range(crossover.shape[0]):\n",
    "        crossover[idx, parameter_selected] = crossover[idx, parameter_selected] + mutation_value\n",
    "        if crossover[idx, parameter_selected] > min_max_values[parameter_selected, 1]:\n",
    "            crossover[idx, parameter_selected] = min_max_values[parameter_selected, 1]\n",
    "        else:\n",
    "            crossover[idx, parameter_selected] = min_max_values[parameter_selected, 0]\n",
    "\n",
    "    return crossover"
   ]
  },
  {
   "cell_type": "markdown",
   "metadata": {},
   "source": [
    "### Равномерный кроссовер"
   ]
  },
  {
   "cell_type": "code",
   "execution_count": 232,
   "metadata": {},
   "outputs": [],
   "source": [
    "num_features = x_train.select_dtypes(exclude=[\"object\"]).columns\n",
    "x_train, x_valid = x_train[num_features], x_valid[num_features]\n",
    "\n",
    "to_drop = [\"SK_ID_CURR\", \"TARGET\"]\n",
    "x_train = x_train.drop(to_drop, axis=1)\n",
    "x_valid = x_valid.drop(to_drop, axis=1)"
   ]
  },
  {
   "cell_type": "code",
   "execution_count": 233,
   "metadata": {},
   "outputs": [],
   "source": [
    "xgb_train = xgb.DMatrix(\n",
    "    data=x_train, label=y_train\n",
    ")\n",
    "xgb_valid = xgb.DMatrix(\n",
    "    data=x_valid, label=y_valid\n",
    ")"
   ]
  },
  {
   "cell_type": "code",
   "execution_count": 234,
   "metadata": {},
   "outputs": [
    {
     "name": "stderr",
     "output_type": "stream",
     "text": [
      "\n",
      "\n",
      "\n",
      "\n",
      "\n",
      "\n",
      "\n",
      "\n",
      "100%|████████████████████████████████████████████| 6/6 [05:59<00:00, 59.89s/it]\n"
     ]
    }
   ],
   "source": [
    "for generation in tqdm(range(number_of_generation)):\n",
    "    best_score, mean_score = np.max(scores_history), np.mean(scores_history)\n",
    "    print(f\"All-history: Best ROC-AUC = {round(best_score, 4)}, Mean ROC-AUC = {round(mean_score, 4)}\")\n",
    "\n",
    "    scores = train_population(\n",
    "        population=population,\n",
    "        xgb_train=xgb_train,\n",
    "        xgb_valid=xgb_valid,\n",
    "       y_valid=y_valid)\n",
    "\n",
    "    scores_history[generation, :] = scores\n",
    "\n",
    "    parents = select_new_parents(\n",
    "        population=population,\n",
    "        scores=scores,\n",
    "        num_parents=4)\n",
    "\n",
    "    children = crossover_equable(\n",
    "        parents=parents,\n",
    "        children_size=(population_size[0] - parents.shape[0], 5)\n",
    "    )\n",
    "    children_mutated = mutation(children, number_of_parameters=5)\n",
    "    population[0:parents.shape[0], :] = parents\n",
    "    population[parents.shape[0]:, :] = children_mutated\n",
    "\n",
    "    params_history[(generation+1)*8 : (generation+1)*8+8 , :] = population\n",
    "    clear_output()\n",
    "\n",
    "scores_history = pd.DataFrame(scores_history)\n",
    "scores_history = scores_history.loc[:5]"
   ]
  },
  {
   "cell_type": "code",
   "execution_count": 235,
   "metadata": {},
   "outputs": [
    {
     "data": {
      "text/plain": [
       "<matplotlib.axes._subplots.AxesSubplot at 0x18363688>"
      ]
     },
     "execution_count": 235,
     "metadata": {},
     "output_type": "execute_result"
    },
    {
     "data": {
      "image/png": "[encoded data removed]",
      "text/plain": [
       "<Figure size 720x576 with 2 Axes>"
      ]
     },
     "metadata": {
      "needs_background": "light"
     },
     "output_type": "display_data"
    }
   ],
   "source": [
    "fig, axes = plt.subplots(1, 1, figsize=(10, 8))\n",
    "sns.heatmap(scores_history, annot=True, fmt='.4g', linewidths=1, ax=axes)"
   ]
  },
  {
   "cell_type": "markdown",
   "metadata": {},
   "source": [
    "### Кроссовер Ордена Дэвиса (OX1)"
   ]
  },
  {
   "cell_type": "code",
   "execution_count": 335,
   "metadata": {},
   "outputs": [],
   "source": [
    "number_of_parents = 8\n",
    "number_of_parents_mating = 4\n",
    "number_of_parameters = 5\n",
    "number_of_generation = 6\n",
    "\n",
    "population_size = (number_of_parents, number_of_parameters)\n",
    "scores_history = np.empty([number_of_generation+1, number_of_parents])\n",
    "\n",
    "params_history = np.empty([(number_of_generation+1) * number_of_parents, number_of_parameters])"
   ]
  },
  {
   "cell_type": "code",
   "execution_count": 336,
   "metadata": {},
   "outputs": [],
   "source": [
    "population = init_population(number_of_parents)\n",
    "\n",
    "population = np.concatenate((\n",
    "    population[\"max_depth\"],\n",
    "    population[\"min_child_weight\"],\n",
    "    population[\"subsample\"],\n",
    "    population[\"colsample_bytree\"],\n",
    "    population[\"gamma\"]), axis=1)\n",
    "\n",
    "params_history[0:number_of_parents, :] = population"
   ]
  },
  {
   "cell_type": "code",
   "execution_count": 337,
   "metadata": {},
   "outputs": [
    {
     "name": "stderr",
     "output_type": "stream",
     "text": [
      "\n",
      "\n",
      "\n",
      "\n",
      "\n",
      "\n",
      "\n",
      "\n",
      "\n",
      "\n",
      "\n",
      "\n",
      "\n",
      "\n",
      "\n",
      "\n",
      "\n",
      "\n",
      "\n",
      "\n",
      "\n",
      "\n",
      "\n",
      "\n",
      "\n",
      "\n",
      "\n",
      "\n",
      "\n",
      "\n",
      "\n",
      "\n",
      " 67%|█████████████████████████████▎              | 4/6 [02:23<01:16, 38.47s/it]"
     ]
    },
    {
     "name": "stdout",
     "output_type": "stream",
     "text": [
      "All-history: Best ROC-AUC = 6.5, Mean ROC-AUC = 2.7517\n",
      "[0]\ttrain-auc:0.63585\tvalid-auc:0.64902\n",
      "Multiple eval metrics have been passed: 'valid-auc' will be used for early stopping.\n",
      "\n",
      "Will train until valid-auc hasn't improved in 50 rounds.\n",
      "[25]\ttrain-auc:0.72434\tvalid-auc:0.71228\n",
      "[50]\ttrain-auc:0.74441\tvalid-auc:0.72694\n",
      "[75]\ttrain-auc:0.76042\tvalid-auc:0.73493\n",
      "[100]\ttrain-auc:0.76725\tvalid-auc:0.73731\n",
      "[125]\ttrain-auc:0.77169\tvalid-auc:0.73745\n",
      "[150]\ttrain-auc:0.77610\tvalid-auc:0.73810\n",
      "[175]\ttrain-auc:0.77809\tvalid-auc:0.73823\n",
      "[200]\ttrain-auc:0.77937\tvalid-auc:0.73848\n",
      "[225]\ttrain-auc:0.78234\tvalid-auc:0.73897\n",
      "[250]\ttrain-auc:0.78540\tvalid-auc:0.73894\n",
      "[275]\ttrain-auc:0.78776\tvalid-auc:0.73894\n",
      "[300]\ttrain-auc:0.78984\tvalid-auc:0.73854\n",
      "Stopping. Best iteration:\n",
      "[266]\ttrain-auc:0.78701\tvalid-auc:0.73906\n",
      "\n",
      "====================================================================================\n",
      "[0]\ttrain-auc:0.63586\tvalid-auc:0.64909\n",
      "Multiple eval metrics have been passed: 'valid-auc' will be used for early stopping.\n",
      "\n",
      "Will train until valid-auc hasn't improved in 50 rounds.\n",
      "[25]\ttrain-auc:0.73139\tvalid-auc:0.71762\n",
      "[50]\ttrain-auc:0.74705\tvalid-auc:0.72733\n",
      "[75]\ttrain-auc:0.75965\tvalid-auc:0.73360\n",
      "[100]\ttrain-auc:0.76366\tvalid-auc:0.73437\n",
      "[125]\ttrain-auc:0.76449\tvalid-auc:0.73474\n",
      "[150]\ttrain-auc:0.76449\tvalid-auc:0.73474\n",
      "Stopping. Best iteration:\n",
      "[124]\ttrain-auc:0.76449\tvalid-auc:0.73474\n",
      "\n",
      "====================================================================================\n",
      "[0]\ttrain-auc:0.50000\tvalid-auc:0.50000\n",
      "Multiple eval metrics have been passed: 'valid-auc' will be used for early stopping.\n",
      "\n",
      "Will train until valid-auc hasn't improved in 50 rounds.\n",
      "[25]\ttrain-auc:0.74104\tvalid-auc:0.71956\n",
      "[50]\ttrain-auc:0.76692\tvalid-auc:0.73223\n",
      "[75]\ttrain-auc:0.78250\tvalid-auc:0.73425\n",
      "[100]\ttrain-auc:0.79800\tvalid-auc:0.73396\n",
      "[125]\ttrain-auc:0.80452\tvalid-auc:0.73360\n",
      "Stopping. Best iteration:\n",
      "[81]\ttrain-auc:0.78548\tvalid-auc:0.73471\n",
      "\n",
      "====================================================================================\n",
      "[0]\ttrain-auc:0.50000\tvalid-auc:0.50000\n",
      "Multiple eval metrics have been passed: 'valid-auc' will be used for early stopping.\n",
      "\n",
      "Will train until valid-auc hasn't improved in 50 rounds.\n",
      "[25]\ttrain-auc:0.70470\tvalid-auc:0.69507\n",
      "[50]\ttrain-auc:0.71884\tvalid-auc:0.70993\n",
      "[75]\ttrain-auc:0.72966\tvalid-auc:0.72194\n",
      "[100]\ttrain-auc:0.73285\tvalid-auc:0.72423\n",
      "[125]\ttrain-auc:0.73818\tvalid-auc:0.72792\n",
      "[150]\ttrain-auc:0.74210\tvalid-auc:0.72912\n",
      "[175]\ttrain-auc:0.74499\tvalid-auc:0.73088\n",
      "[200]\ttrain-auc:0.74630\tvalid-auc:0.73116\n",
      "[225]\ttrain-auc:0.74851\tvalid-auc:0.72898\n",
      "[250]\ttrain-auc:0.75073\tvalid-auc:0.72993\n",
      "Stopping. Best iteration:\n",
      "[201]\ttrain-auc:0.74648\tvalid-auc:0.73144\n",
      "\n",
      "====================================================================================\n"
     ]
    },
    {
     "ename": "XGBoostError",
     "evalue": "value 2 for Parameter subsample exceed bound [0,1]\nsubsample: Row subsample ratio of training instance.",
     "output_type": "error",
     "traceback": [
      "\u001b[1;31m---------------------------------------------------------------------------\u001b[0m",
      "\u001b[1;31mXGBoostError\u001b[0m                              Traceback (most recent call last)",
      "\u001b[1;32m<ipython-input-337-23de07b2d67b>\u001b[0m in \u001b[0;36m<module>\u001b[1;34m\u001b[0m\n\u001b[0;32m      7\u001b[0m         \u001b[0mxgb_train\u001b[0m\u001b[1;33m=\u001b[0m\u001b[0mxgb_train\u001b[0m\u001b[1;33m,\u001b[0m\u001b[1;33m\u001b[0m\u001b[1;33m\u001b[0m\u001b[0m\n\u001b[0;32m      8\u001b[0m         \u001b[0mxgb_valid\u001b[0m\u001b[1;33m=\u001b[0m\u001b[0mxgb_valid\u001b[0m\u001b[1;33m,\u001b[0m\u001b[1;33m\u001b[0m\u001b[1;33m\u001b[0m\u001b[0m\n\u001b[1;32m----> 9\u001b[1;33m        y_valid=y_valid)\n\u001b[0m\u001b[0;32m     10\u001b[0m \u001b[1;33m\u001b[0m\u001b[0m\n\u001b[0;32m     11\u001b[0m     \u001b[0mscores_history\u001b[0m\u001b[1;33m[\u001b[0m\u001b[0mgeneration\u001b[0m\u001b[1;33m,\u001b[0m \u001b[1;33m:\u001b[0m\u001b[1;33m]\u001b[0m \u001b[1;33m=\u001b[0m \u001b[0mscores\u001b[0m\u001b[1;33m\u001b[0m\u001b[1;33m\u001b[0m\u001b[0m\n",
      "\u001b[1;32m<ipython-input-325-7668695deafa>\u001b[0m in \u001b[0;36mtrain_population\u001b[1;34m(population, xgb_train, xgb_valid, y_valid)\u001b[0m\n\u001b[0;32m     26\u001b[0m             \u001b[0mearly_stopping_rounds\u001b[0m\u001b[1;33m=\u001b[0m\u001b[1;36m50\u001b[0m\u001b[1;33m,\u001b[0m\u001b[1;33m\u001b[0m\u001b[1;33m\u001b[0m\u001b[0m\n\u001b[0;32m     27\u001b[0m             \u001b[0mnum_boost_round\u001b[0m\u001b[1;33m=\u001b[0m\u001b[1;36m1000\u001b[0m\u001b[1;33m,\u001b[0m\u001b[1;33m\u001b[0m\u001b[1;33m\u001b[0m\u001b[0m\n\u001b[1;32m---> 28\u001b[1;33m             \u001b[0mverbose_eval\u001b[0m\u001b[1;33m=\u001b[0m\u001b[1;36m25\u001b[0m\u001b[1;33m,\u001b[0m\u001b[1;33m\u001b[0m\u001b[1;33m\u001b[0m\u001b[0m\n\u001b[0m\u001b[0;32m     29\u001b[0m         )\n\u001b[0;32m     30\u001b[0m         \u001b[0my_pred\u001b[0m \u001b[1;33m=\u001b[0m \u001b[0mmodel\u001b[0m\u001b[1;33m.\u001b[0m\u001b[0mpredict\u001b[0m\u001b[1;33m(\u001b[0m\u001b[0mxgb_valid\u001b[0m\u001b[1;33m)\u001b[0m\u001b[1;33m\u001b[0m\u001b[1;33m\u001b[0m\u001b[0m\n",
      "\u001b[1;32me:\\anaconda3\\lib\\site-packages\\xgboost\\training.py\u001b[0m in \u001b[0;36mtrain\u001b[1;34m(params, dtrain, num_boost_round, evals, obj, feval, maximize, early_stopping_rounds, evals_result, verbose_eval, xgb_model, callbacks)\u001b[0m\n\u001b[0;32m    210\u001b[0m                            \u001b[0mevals\u001b[0m\u001b[1;33m=\u001b[0m\u001b[0mevals\u001b[0m\u001b[1;33m,\u001b[0m\u001b[1;33m\u001b[0m\u001b[1;33m\u001b[0m\u001b[0m\n\u001b[0;32m    211\u001b[0m                            \u001b[0mobj\u001b[0m\u001b[1;33m=\u001b[0m\u001b[0mobj\u001b[0m\u001b[1;33m,\u001b[0m \u001b[0mfeval\u001b[0m\u001b[1;33m=\u001b[0m\u001b[0mfeval\u001b[0m\u001b[1;33m,\u001b[0m\u001b[1;33m\u001b[0m\u001b[1;33m\u001b[0m\u001b[0m\n\u001b[1;32m--> 212\u001b[1;33m                            xgb_model=xgb_model, callbacks=callbacks)\n\u001b[0m\u001b[0;32m    213\u001b[0m \u001b[1;33m\u001b[0m\u001b[0m\n\u001b[0;32m    214\u001b[0m \u001b[1;33m\u001b[0m\u001b[0m\n",
      "\u001b[1;32me:\\anaconda3\\lib\\site-packages\\xgboost\\training.py\u001b[0m in \u001b[0;36m_train_internal\u001b[1;34m(params, dtrain, num_boost_round, evals, obj, feval, xgb_model, callbacks)\u001b[0m\n\u001b[0;32m     73\u001b[0m         \u001b[1;31m# Skip the first update if it is a recovery step.\u001b[0m\u001b[1;33m\u001b[0m\u001b[1;33m\u001b[0m\u001b[1;33m\u001b[0m\u001b[0m\n\u001b[0;32m     74\u001b[0m         \u001b[1;32mif\u001b[0m \u001b[0mversion\u001b[0m \u001b[1;33m%\u001b[0m \u001b[1;36m2\u001b[0m \u001b[1;33m==\u001b[0m \u001b[1;36m0\u001b[0m\u001b[1;33m:\u001b[0m\u001b[1;33m\u001b[0m\u001b[1;33m\u001b[0m\u001b[0m\n\u001b[1;32m---> 75\u001b[1;33m             \u001b[0mbst\u001b[0m\u001b[1;33m.\u001b[0m\u001b[0mupdate\u001b[0m\u001b[1;33m(\u001b[0m\u001b[0mdtrain\u001b[0m\u001b[1;33m,\u001b[0m \u001b[0mi\u001b[0m\u001b[1;33m,\u001b[0m \u001b[0mobj\u001b[0m\u001b[1;33m)\u001b[0m\u001b[1;33m\u001b[0m\u001b[1;33m\u001b[0m\u001b[0m\n\u001b[0m\u001b[0;32m     76\u001b[0m             \u001b[0mbst\u001b[0m\u001b[1;33m.\u001b[0m\u001b[0msave_rabit_checkpoint\u001b[0m\u001b[1;33m(\u001b[0m\u001b[1;33m)\u001b[0m\u001b[1;33m\u001b[0m\u001b[1;33m\u001b[0m\u001b[0m\n\u001b[0;32m     77\u001b[0m             \u001b[0mversion\u001b[0m \u001b[1;33m+=\u001b[0m \u001b[1;36m1\u001b[0m\u001b[1;33m\u001b[0m\u001b[1;33m\u001b[0m\u001b[0m\n",
      "\u001b[1;32me:\\anaconda3\\lib\\site-packages\\xgboost\\core.py\u001b[0m in \u001b[0;36mupdate\u001b[1;34m(self, dtrain, iteration, fobj)\u001b[0m\n\u001b[0;32m   1367\u001b[0m             _check_call(_LIB.XGBoosterUpdateOneIter(self.handle,\n\u001b[0;32m   1368\u001b[0m                                                     \u001b[0mctypes\u001b[0m\u001b[1;33m.\u001b[0m\u001b[0mc_int\u001b[0m\u001b[1;33m(\u001b[0m\u001b[0miteration\u001b[0m\u001b[1;33m)\u001b[0m\u001b[1;33m,\u001b[0m\u001b[1;33m\u001b[0m\u001b[1;33m\u001b[0m\u001b[0m\n\u001b[1;32m-> 1369\u001b[1;33m                                                     dtrain.handle))\n\u001b[0m\u001b[0;32m   1370\u001b[0m         \u001b[1;32melse\u001b[0m\u001b[1;33m:\u001b[0m\u001b[1;33m\u001b[0m\u001b[1;33m\u001b[0m\u001b[0m\n\u001b[0;32m   1371\u001b[0m             \u001b[0mpred\u001b[0m \u001b[1;33m=\u001b[0m \u001b[0mself\u001b[0m\u001b[1;33m.\u001b[0m\u001b[0mpredict\u001b[0m\u001b[1;33m(\u001b[0m\u001b[0mdtrain\u001b[0m\u001b[1;33m,\u001b[0m \u001b[0moutput_margin\u001b[0m\u001b[1;33m=\u001b[0m\u001b[1;32mTrue\u001b[0m\u001b[1;33m,\u001b[0m \u001b[0mtraining\u001b[0m\u001b[1;33m=\u001b[0m\u001b[1;32mTrue\u001b[0m\u001b[1;33m)\u001b[0m\u001b[1;33m\u001b[0m\u001b[1;33m\u001b[0m\u001b[0m\n",
      "\u001b[1;32me:\\anaconda3\\lib\\site-packages\\xgboost\\core.py\u001b[0m in \u001b[0;36m_check_call\u001b[1;34m(ret)\u001b[0m\n\u001b[0;32m    188\u001b[0m     \"\"\"\n\u001b[0;32m    189\u001b[0m     \u001b[1;32mif\u001b[0m \u001b[0mret\u001b[0m \u001b[1;33m!=\u001b[0m \u001b[1;36m0\u001b[0m\u001b[1;33m:\u001b[0m\u001b[1;33m\u001b[0m\u001b[1;33m\u001b[0m\u001b[0m\n\u001b[1;32m--> 190\u001b[1;33m         \u001b[1;32mraise\u001b[0m \u001b[0mXGBoostError\u001b[0m\u001b[1;33m(\u001b[0m\u001b[0mpy_str\u001b[0m\u001b[1;33m(\u001b[0m\u001b[0m_LIB\u001b[0m\u001b[1;33m.\u001b[0m\u001b[0mXGBGetLastError\u001b[0m\u001b[1;33m(\u001b[0m\u001b[1;33m)\u001b[0m\u001b[1;33m)\u001b[0m\u001b[1;33m)\u001b[0m\u001b[1;33m\u001b[0m\u001b[1;33m\u001b[0m\u001b[0m\n\u001b[0m\u001b[0;32m    191\u001b[0m \u001b[1;33m\u001b[0m\u001b[0m\n\u001b[0;32m    192\u001b[0m \u001b[1;33m\u001b[0m\u001b[0m\n",
      "\u001b[1;31mXGBoostError\u001b[0m: value 2 for Parameter subsample exceed bound [0,1]\nsubsample: Row subsample ratio of training instance."
     ]
    }
   ],
   "source": [
    "for generation in tqdm(range(number_of_generation)):\n",
    "    best_score, mean_score = np.max(scores_history), np.mean(scores_history)\n",
    "    print(f\"All-history: Best ROC-AUC = {round(best_score, 4)}, Mean ROC-AUC = {round(mean_score, 4)}\")\n",
    "\n",
    "    scores = train_population(\n",
    "        population=population,\n",
    "        xgb_train=xgb_train,\n",
    "        xgb_valid=xgb_valid,\n",
    "       y_valid=y_valid)\n",
    "\n",
    "    scores_history[generation, :] = scores\n",
    "\n",
    "    parents = select_new_parents(\n",
    "        population=population,\n",
    "        scores=scores,\n",
    "        num_parents=4)\n",
    "\n",
    "    children = crossover_OX1(\n",
    "        parents=parents,\n",
    "        children_size=(population_size[0] - parents.shape[0], 5)\n",
    "    )\n",
    "    children_mutated = mutation(children, number_of_parameters=5)\n",
    "    population[0:parents.shape[0], :] = parents\n",
    "    population[parents.shape[0]:, :] = children_mutated\n",
    "\n",
    "    params_history[(generation+1)*8 : (generation+1)*8+8 , :] = population\n",
    "    clear_output()\n",
    "\n",
    "scores_history = pd.DataFrame(scores_history)\n",
    "scores_history = scores_history.loc[:5]"
   ]
  },
  {
   "cell_type": "code",
   "execution_count": 338,
   "metadata": {},
   "outputs": [
    {
     "data": {
      "text/plain": [
       "<matplotlib.axes._subplots.AxesSubplot at 0x1772b408>"
      ]
     },
     "execution_count": 338,
     "metadata": {},
     "output_type": "execute_result"
    },
    {
     "data": {
      "image/png": "[encoded data removed]",
      "text/plain": [
       "<Figure size 720x576 with 2 Axes>"
      ]
     },
     "metadata": {
      "needs_background": "light"
     },
     "output_type": "display_data"
    }
   ],
   "source": [
    "fig, axes = plt.subplots(1, 1, figsize=(10, 8))\n",
    "sns.heatmap(scores_history, annot=True, fmt='.4g', linewidths=1, ax=axes)"
   ]
  },
  {
   "cell_type": "code",
   "execution_count": null,
   "metadata": {},
   "outputs": [],
   "source": []
  },
  {
   "cell_type": "code",
   "execution_count": null,
   "metadata": {},
   "outputs": [],
   "source": []
  }
 ],
 "metadata": {
  "kernelspec": {
   "display_name": "Python 3",
   "language": "python",
   "name": "python3"
  },
  "language_info": {
   "codemirror_mode": {
    "name": "ipython",
    "version": 3
   },
   "file_extension": ".py",
   "mimetype": "text/x-python",
   "name": "python",
   "nbconvert_exporter": "python",
   "pygments_lexer": "ipython3",
   "version": "3.7.4"
  }
 },
 "nbformat": 4,
 "nbformat_minor": 2
}
